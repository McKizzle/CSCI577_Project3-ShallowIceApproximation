{
 "metadata": {
  "name": "",
  "signature": "sha256:2c61b2d5e4c7ba7913749f2d61f2378a1be786241bf96f4f34ae90c88afc66de"
 },
 "nbformat": 3,
 "nbformat_minor": 0,
 "worksheets": [
  {
   "cells": [
    {
     "cell_type": "markdown",
     "metadata": {},
     "source": [
      "# Shallow Ice Doodle Zone\n",
      "Area to experiment on the ice flow."
     ]
    },
    {
     "cell_type": "code",
     "collapsed": false,
     "input": [
      "# %qtconsole"
     ],
     "language": "python",
     "metadata": {},
     "outputs": [],
     "prompt_number": 18
    },
    {
     "cell_type": "markdown",
     "metadata": {},
     "source": [
      "Setup the variables as defined in _The EISMINT benchmarks for testing ice-sheet models_."
     ]
    },
    {
     "cell_type": "code",
     "collapsed": false,
     "input": [
      "import dolfin as dfn\n",
      "import numpy as np\n",
      "\n",
      "# Constants Zone\n",
      "n = 3.0             # Flow-law exponent\n",
      "A = 1.0e-16         # 1 / (Pa^3 a)\n",
      "spy = 31556926.0    # s / a\n",
      "g = 9.81            # m / s**2\n",
      "\n",
      "rho_i = 911.0       # kg / m**3\n",
      "n = 3.0             # - dimensionless\n",
      "a_dot = 0.3         # phi is a calculated value on page 4 of the paper.\n",
      "k = 2.1             # W / (m^1 K^1)\n",
      "c_p = 2009.0        # J/(kg * K)\n",
      "T_0 = 273.15        # K\n",
      "beta = 8.7e-4       # 1/(Km)\n",
      "G = 42.0            # mW / M^2\n",
      "\n",
      "\n",
      "T = 100000     # Maximum number of years to run the simulation\n",
      "dt = 1000.0        # timestep in years. "
     ],
     "language": "python",
     "metadata": {},
     "outputs": [],
     "prompt_number": 19
    },
    {
     "cell_type": "code",
     "collapsed": false,
     "input": [
      "def D(h):\n",
      "    a = 2 * A * (rho_i * g)**n / (n + 2)\n",
      "    b = h**(n+2)\n",
      "    c = dfn.dot(dfn.grad(h), dfn.grad(h))\n",
      "    d = (n - 1) / 2\n",
      "    return a*b*(c**d)"
     ],
     "language": "python",
     "metadata": {},
     "outputs": [],
     "prompt_number": 20
    },
    {
     "cell_type": "code",
     "collapsed": false,
     "input": [
      "mesh = dfn.RectangleMesh(0, 0, 1500000, 1500000, 30, 30)"
     ],
     "language": "python",
     "metadata": {},
     "outputs": [],
     "prompt_number": 21
    },
    {
     "cell_type": "code",
     "collapsed": false,
     "input": [
      "V = dfn.FunctionSpace(mesh, 'CG', 1)"
     ],
     "language": "python",
     "metadata": {},
     "outputs": [
      {
       "output_type": "stream",
       "stream": "stderr",
       "text": [
        "DEBUG:UFL:No integrals left after transformation, returning empty form.\n"
       ]
      },
      {
       "output_type": "stream",
       "stream": "stderr",
       "text": [
        "DEBUG:FFC:Reusing form from cache.\n"
       ]
      }
     ],
     "prompt_number": 22
    },
    {
     "cell_type": "code",
     "collapsed": false,
     "input": [
      "# Define the trial and test functions\n",
      "dH = dfn.TrialFunction(V)\n",
      "w = dfn.TestFunction(V)"
     ],
     "language": "python",
     "metadata": {},
     "outputs": [],
     "prompt_number": 23
    },
    {
     "cell_type": "code",
     "collapsed": false,
     "input": [
      "# Now define the initial conditions\n",
      "H_o = dfn.Function(V)\n",
      "H_n = dfn.Function(V)"
     ],
     "language": "python",
     "metadata": {},
     "outputs": [],
     "prompt_number": 24
    },
    {
     "cell_type": "markdown",
     "metadata": {},
     "source": [
      "Residual:\n",
      "\\begin{align*}\n",
      "   0 &= \\frac{\\partial H}{\\partial t} + \\nabla \\cdot D \\nabla H + M\n",
      "\\end{align*}\n",
      "\n",
      "Conversion into weak form. \n",
      "\\begin{align*}\n",
      "  0 &= \\int_\\Omega\\left[\\frac{\\partial H}{\\partial t} * w + \\cdot D \\nabla H \\cdot \\nabla{w} - M * w\\right]\n",
      "\\end{align*}\n",
      "\n",
      "Where $M = \\dot a$ in this project. The first component assumes that $\\dot a$ is a constant."
     ]
    },
    {
     "cell_type": "code",
     "collapsed": false,
     "input": [
      "a = (H_n - H_o) / dt * w\n",
      "b = D(H_n) * dfn.dot(dfn.grad(H_n), dfn.grad(w))\n",
      "c = a_dot * w\n",
      "F = (a + b - c) * dfn.dx"
     ],
     "language": "python",
     "metadata": {},
     "outputs": [],
     "prompt_number": 25
    },
    {
     "cell_type": "code",
     "collapsed": false,
     "input": [
      "# F = dfn.action(F, H_coef)"
     ],
     "language": "python",
     "metadata": {},
     "outputs": [],
     "prompt_number": 26
    },
    {
     "cell_type": "markdown",
     "metadata": {},
     "source": [
      "Compute the Jacobian matrix. "
     ]
    },
    {
     "cell_type": "code",
     "collapsed": false,
     "input": [
      "J = dfn.derivative(F, H_n, dH)"
     ],
     "language": "python",
     "metadata": {},
     "outputs": [],
     "prompt_number": 27
    },
    {
     "cell_type": "markdown",
     "metadata": {},
     "source": [
      "Setup the boundaries to contain a constant value (we do not want any Von Neuman boundaries)"
     ]
    },
    {
     "cell_type": "code",
     "collapsed": false,
     "input": [
      "def boundary(h, on_boundary):\n",
      "    return on_boundary\n",
      "\n",
      "bc = dfn.DirichletBC(V, dfn.Constant(0.0), boundary)"
     ],
     "language": "python",
     "metadata": {},
     "outputs": [],
     "prompt_number": 28
    },
    {
     "cell_type": "markdown",
     "metadata": {},
     "source": [
      "Setup the the problem so we can solve it. "
     ]
    },
    {
     "cell_type": "code",
     "collapsed": false,
     "input": [
      "problem = dfn.NonlinearVariationalProblem(F, H_n, bc, J)"
     ],
     "language": "python",
     "metadata": {},
     "outputs": [
      {
       "output_type": "stream",
       "stream": "stderr",
       "text": [
        "DEBUG:UFL:No integrals left after transformation, returning empty form.\n"
       ]
      },
      {
       "output_type": "stream",
       "stream": "stderr",
       "text": [
        "DEBUG:FFC:Reusing form from cache.\n"
       ]
      },
      {
       "output_type": "stream",
       "stream": "stderr",
       "text": [
        "DEBUG:UFL:In CoefficientAD.coefficient:\n"
       ]
      },
      {
       "output_type": "stream",
       "stream": "stderr",
       "text": [
        "DEBUG:UFL:o = f_5\n"
       ]
      },
      {
       "output_type": "stream",
       "stream": "stderr",
       "text": [
        "DEBUG:UFL:self._w = Tuple(*(f_5,))\n"
       ]
      },
      {
       "output_type": "stream",
       "stream": "stderr",
       "text": [
        "DEBUG:UFL:self._v = Tuple(*(v_{-1},))\n"
       ]
      },
      {
       "output_type": "stream",
       "stream": "stderr",
       "text": [
        "DEBUG:UFL:In CoefficientAD.coefficient:\n"
       ]
      },
      {
       "output_type": "stream",
       "stream": "stderr",
       "text": [
        "DEBUG:UFL:o = f_4\n"
       ]
      },
      {
       "output_type": "stream",
       "stream": "stderr",
       "text": [
        "DEBUG:UFL:self._w = Tuple(*(f_5,))\n"
       ]
      },
      {
       "output_type": "stream",
       "stream": "stderr",
       "text": [
        "DEBUG:UFL:self._v = Tuple(*(v_{-1},))\n"
       ]
      },
      {
       "output_type": "stream",
       "stream": "stderr",
       "text": [
        "DEBUG:UFL:In CoefficientAD.coefficient:\n"
       ]
      },
      {
       "output_type": "stream",
       "stream": "stderr",
       "text": [
        "DEBUG:UFL:o = f_5\n"
       ]
      },
      {
       "output_type": "stream",
       "stream": "stderr",
       "text": [
        "DEBUG:UFL:self._w = Tuple(*(f_5,))\n"
       ]
      },
      {
       "output_type": "stream",
       "stream": "stderr",
       "text": [
        "DEBUG:UFL:self._v = Tuple(*(v_{-1},))\n"
       ]
      },
      {
       "output_type": "stream",
       "stream": "stderr",
       "text": [
        "DEBUG:UFL:No integrals left after transformation, returning empty form.\n"
       ]
      },
      {
       "output_type": "stream",
       "stream": "stderr",
       "text": [
        "DEBUG:UFL:No integrals left after transformation, returning empty form.\n"
       ]
      },
      {
       "output_type": "stream",
       "stream": "stderr",
       "text": [
        "DEBUG:FFC:Reusing form from cache.\n"
       ]
      }
     ],
     "prompt_number": 29
    },
    {
     "cell_type": "markdown",
     "metadata": {},
     "source": [
      "Construct the solver"
     ]
    },
    {
     "cell_type": "code",
     "collapsed": false,
     "input": [
      "solver = dfn.NonlinearVariationalSolver(problem)"
     ],
     "language": "python",
     "metadata": {},
     "outputs": [],
     "prompt_number": 30
    },
    {
     "cell_type": "markdown",
     "metadata": {},
     "source": [
      "Set the solver parameters"
     ]
    },
    {
     "cell_type": "code",
     "collapsed": false,
     "input": [
      "solver.parameters['nonlinear_solver'] = 'snes'\n",
      "solver.parameters['snes_solver']['method']='virs'\n",
      "solver.parameters['snes_solver']['maximum_iterations']=50\n",
      "solver.parameters['snes_solver']['linear_solver']='mumps'\n",
      "solver.parameters['snes_solver']['preconditioner'] = 'ilu'\n",
      "\n",
      "prm = solver.parameters\n",
      "prm['newton_solver']['absolute_tolerance'] = 1E-8\n",
      "prm['newton_solver']['relative_tolerance'] = 1E-7\n",
      "prm['newton_solver']['maximum_iterations'] = 25\n",
      "prm['newton_solver']['relaxation_parameter'] = 1.0"
     ],
     "language": "python",
     "metadata": {},
     "outputs": [],
     "prompt_number": 31
    },
    {
     "cell_type": "markdown",
     "metadata": {},
     "source": [
      "Write the output to a file. "
     ]
    },
    {
     "cell_type": "code",
     "collapsed": false,
     "input": [
      "file_H = dfn.File(\"./pvd/ShllwIce-CnstPrcp.pvd\")\n",
      "Hout = dfn.Function(V)"
     ],
     "language": "python",
     "metadata": {},
     "outputs": [],
     "prompt_number": 32
    },
    {
     "cell_type": "code",
     "collapsed": false,
     "input": [
      "t = 0\n",
      "while t <= T:\n",
      "    solver.solve()\n",
      "    H_o.vector()[:] = H_n.vector()\n",
      "    Hout.vector()[:] = H_n.vector()\n",
      "    file_H << Hout # write to file. \n",
      "    print t                                                                                               \n",
      "    t += dt"
     ],
     "language": "python",
     "metadata": {},
     "outputs": [
      {
       "output_type": "stream",
       "stream": "stdout",
       "text": [
        "0\n",
        "1000.0"
       ]
      },
      {
       "output_type": "stream",
       "stream": "stdout",
       "text": [
        "\n",
        "2000.0"
       ]
      },
      {
       "output_type": "stream",
       "stream": "stdout",
       "text": [
        "\n",
        "3000.0"
       ]
      },
      {
       "output_type": "stream",
       "stream": "stdout",
       "text": [
        "\n",
        "4000.0"
       ]
      },
      {
       "output_type": "stream",
       "stream": "stdout",
       "text": [
        "\n",
        "5000.0"
       ]
      },
      {
       "output_type": "stream",
       "stream": "stdout",
       "text": [
        "\n",
        "6000.0"
       ]
      },
      {
       "output_type": "stream",
       "stream": "stdout",
       "text": [
        "\n",
        "7000.0"
       ]
      },
      {
       "output_type": "stream",
       "stream": "stdout",
       "text": [
        "\n",
        "8000.0"
       ]
      },
      {
       "output_type": "stream",
       "stream": "stdout",
       "text": [
        "\n",
        "9000.0"
       ]
      },
      {
       "output_type": "stream",
       "stream": "stdout",
       "text": [
        "\n",
        "10000.0"
       ]
      },
      {
       "output_type": "stream",
       "stream": "stdout",
       "text": [
        "\n"
       ]
      }
     ],
     "prompt_number": 33
    },
    {
     "cell_type": "code",
     "collapsed": false,
     "input": [
      "dfn.plot(H_n)\n"
     ],
     "language": "python",
     "metadata": {},
     "outputs": [
      {
       "metadata": {},
       "output_type": "pyout",
       "prompt_number": 34,
       "text": [
        "<dolfin.cpp.io.VTKPlotter; proxy of <Swig Object of type 'boost::shared_ptr< dolfin::VTKPlotter > *' at 0x4a31d20> >"
       ]
      }
     ],
     "prompt_number": 34
    },
    {
     "cell_type": "code",
     "collapsed": false,
     "input": [
      "dfn.interactive()"
     ],
     "language": "python",
     "metadata": {},
     "outputs": [],
     "prompt_number": 35
    },
    {
     "cell_type": "code",
     "collapsed": false,
     "input": [],
     "language": "python",
     "metadata": {},
     "outputs": [],
     "prompt_number": 35
    }
   ],
   "metadata": {}
  }
 ]
}