{
 "metadata": {
  "name": "",
  "signature": "sha256:2c61b2d5e4c7ba7913749f2d61f2378a1be786241bf96f4f34ae90c88afc66de"
 },
 "nbformat": 3,
 "nbformat_minor": 0,
 "worksheets": [
  {
   "cells": [
    {
     "cell_type": "markdown",
     "metadata": {},
     "source": [
      "# Shallow Ice Variable Accumulation\n",
      "Implementation of the shallow ice model that uses a variable accumulation rate. "
     ]
    },
    {
     "cell_type": "code",
     "collapsed": false,
     "input": [
      "# %qtconsole"
     ],
     "language": "python",
     "metadata": {},
     "outputs": [],
     "prompt_number": 73
    },
    {
     "cell_type": "markdown",
     "metadata": {},
     "source": [
      "Setup the variables as defined in _The EISMINT benchmarks for testing ice-sheet models_."
     ]
    },
    {
     "cell_type": "code",
     "collapsed": false,
     "input": [
      "import dolfin as dfn\n",
      "import numpy as np\n",
      "\n",
      "# Constants Zone\n",
      "n = 3.0             # Flow-law exponent\n",
      "A = 1.0e-16         # 1 / (Pa^3 a)\n",
      "spy = 31556926.0    # s / a\n",
      "g = 9.81            # m / s**2\n",
      "\n",
      "rho_i = 911.0       # kg / m**3\n",
      "n = 3.0             # - dimensionless\n",
      "k = 2.1             # W / (m^1 K^1)\n",
      "c_p = 2009.0        # J/(kg * K)\n",
      "T_0 = 273.15        # K\n",
      "beta = 8.7e-4       # 1/(Km)\n",
      "G = 42.0            # mW / M^2\n",
      "\n",
      "T = 100000     # Maximum number of years to run the simulation\n",
      "dt = 1000.0        # timestep in years. \n",
      "\n",
      "x_len = 1500000     # meters\n",
      "y_len = 1500000     # meters"
     ],
     "language": "python",
     "metadata": {},
     "outputs": [],
     "prompt_number": 74
    },
    {
     "cell_type": "code",
     "collapsed": false,
     "input": [
      "a_dot = 0.3\n",
      "s = 10E-2     # 10^-2 m a^-1 km\n",
      "R_el = 450.0  # distance mass balance changes from negative to positive.\n",
      "x_summet = x_len / 2.0 / 1000\n",
      "y_summet = y_len / 2.0 / 1000\n",
      "\n",
      "print s, R_el, x_summet, y_summet\n",
      "\n",
      "# M = dfn.Expression('min(0.5, (1e-1/1000.0) * (0.450 - sqrt(pow(x[0] - 0.450, 2.0) + pow(x[0] - 0.450, 2.0))))')\n",
      "M = dfn.Expression('min(a_dot, s * (R_el - sqrt(pow(x[0] - x_summet, 2) + pow(x[1] - y_summet, 2))))',\n",
      "                   a_dot=a_dot, s=s, R_el=R_el, x_summet=x_summet, y_summet=y_summet)\n",
      "#M = dfn.Expression('min(0.5, 0.3)')"
     ],
     "language": "python",
     "metadata": {},
     "outputs": [
      {
       "output_type": "stream",
       "stream": "stdout",
       "text": [
        "0.1 450.0 750.0 750.0\n"
       ]
      }
     ],
     "prompt_number": 75
    },
    {
     "cell_type": "code",
     "collapsed": false,
     "input": [
      "def D(h):\n",
      "    a = 2 * A * (rho_i * g)**n / (n + 2)\n",
      "    b = h**(n+2)\n",
      "    c = dfn.dot(dfn.grad(h), dfn.grad(h))\n",
      "    d = (n - 1) / 2\n",
      "    return a*b*(c**d)"
     ],
     "language": "python",
     "metadata": {},
     "outputs": [],
     "prompt_number": 76
    },
    {
     "cell_type": "code",
     "collapsed": false,
     "input": [
      "mesh = dfn.RectangleMesh(0, 0, x_len, y_len, 30, 30)"
     ],
     "language": "python",
     "metadata": {},
     "outputs": [],
     "prompt_number": 77
    },
    {
     "cell_type": "code",
     "collapsed": false,
     "input": [
      "V = dfn.FunctionSpace(mesh, 'CG', 1)"
     ],
     "language": "python",
     "metadata": {},
     "outputs": [
      {
       "output_type": "stream",
       "stream": "stderr",
       "text": [
        "DEBUG:UFL:No integrals left after transformation, returning empty form.\n"
       ]
      },
      {
       "output_type": "stream",
       "stream": "stderr",
       "text": [
        "DEBUG:FFC:Reusing form from cache.\n"
       ]
      }
     ],
     "prompt_number": 78
    },
    {
     "cell_type": "code",
     "collapsed": false,
     "input": [
      "# Define the trial and test functions\n",
      "dH = dfn.TrialFunction(V)\n",
      "w = dfn.TestFunction(V)"
     ],
     "language": "python",
     "metadata": {},
     "outputs": [],
     "prompt_number": 79
    },
    {
     "cell_type": "code",
     "collapsed": false,
     "input": [
      "# Now define the initial conditions\n",
      "H_o = dfn.Function(V)\n",
      "H_n = dfn.Function(V)"
     ],
     "language": "python",
     "metadata": {},
     "outputs": [],
     "prompt_number": 80
    },
    {
     "cell_type": "markdown",
     "metadata": {},
     "source": [
      "Residual:\n",
      "\\begin{align*}\n",
      "   0 &= \\frac{\\partial H}{\\partial t} + \\nabla \\cdot D \\nabla H + M\n",
      "\\end{align*}\n",
      "\n",
      "Conversion into weak form. \n",
      "\\begin{align*}\n",
      "  0 &= \\int_\\Omega\\left[\\frac{\\partial H}{\\partial t} * w + \\cdot D \\nabla H \\cdot \\nabla{w} - M * w\\right]\n",
      "\\end{align*}\n",
      "\n",
      "Where $M = \\dot a$ in this project. The first component assumes that $\\dot a$ is a constant."
     ]
    },
    {
     "cell_type": "code",
     "collapsed": false,
     "input": [
      "M = dfn.interpolate(M, V)\n",
      "a = (H_n - H_o) / dt * w\n",
      "b = D(H_n) * dfn.dot(dfn.grad(H_n), dfn.grad(w))\n",
      "c = M * w\n",
      "F = (a + b - c) * dfn.dx"
     ],
     "language": "python",
     "metadata": {},
     "outputs": [],
     "prompt_number": 81
    },
    {
     "cell_type": "code",
     "collapsed": false,
     "input": [
      "# F = dfn.action(F, H_coef)"
     ],
     "language": "python",
     "metadata": {},
     "outputs": [],
     "prompt_number": 82
    },
    {
     "cell_type": "markdown",
     "metadata": {},
     "source": [
      "Compute the Jacobian matrix. "
     ]
    },
    {
     "cell_type": "code",
     "collapsed": false,
     "input": [
      "J = dfn.derivative(F, H_n, dH)"
     ],
     "language": "python",
     "metadata": {},
     "outputs": [],
     "prompt_number": 83
    },
    {
     "cell_type": "markdown",
     "metadata": {},
     "source": [
      "Setup the boundaries to contain a constant value (we do not want any Von Neuman boundaries)"
     ]
    },
    {
     "cell_type": "code",
     "collapsed": false,
     "input": [
      "def boundary(h, on_boundary):\n",
      "    return on_boundary\n",
      "\n",
      "bc = dfn.DirichletBC(V, dfn.Constant(0.0), boundary)\n",
      "# bc = dfn.DirichletBC(V, M, boundary)"
     ],
     "language": "python",
     "metadata": {},
     "outputs": [],
     "prompt_number": 84
    },
    {
     "cell_type": "markdown",
     "metadata": {},
     "source": [
      "Setup the the problem so we can solve it. "
     ]
    },
    {
     "cell_type": "code",
     "collapsed": false,
     "input": [
      "problem = dfn.NonlinearVariationalProblem(F, H_n, bc, J)"
     ],
     "language": "python",
     "metadata": {},
     "outputs": [
      {
       "output_type": "stream",
       "stream": "stderr",
       "text": [
        "DEBUG:UFL:No integrals left after transformation, returning empty form.\n"
       ]
      },
      {
       "output_type": "stream",
       "stream": "stderr",
       "text": [
        "DEBUG:FFC:Reusing form from cache.\n"
       ]
      },
      {
       "output_type": "stream",
       "stream": "stderr",
       "text": [
        "DEBUG:UFL:In CoefficientAD.coefficient:\n"
       ]
      },
      {
       "output_type": "stream",
       "stream": "stderr",
       "text": [
        "DEBUG:UFL:o = f_28\n"
       ]
      },
      {
       "output_type": "stream",
       "stream": "stderr",
       "text": [
        "DEBUG:UFL:self._w = Tuple(*(f_27,))\n"
       ]
      },
      {
       "output_type": "stream",
       "stream": "stderr",
       "text": [
        "DEBUG:UFL:self._v = Tuple(*(v_{-1},))\n"
       ]
      },
      {
       "output_type": "stream",
       "stream": "stderr",
       "text": [
        "DEBUG:UFL:In CoefficientAD.coefficient:\n"
       ]
      },
      {
       "output_type": "stream",
       "stream": "stderr",
       "text": [
        "DEBUG:UFL:o = f_27\n"
       ]
      },
      {
       "output_type": "stream",
       "stream": "stderr",
       "text": [
        "DEBUG:UFL:self._w = Tuple(*(f_27,))\n"
       ]
      },
      {
       "output_type": "stream",
       "stream": "stderr",
       "text": [
        "DEBUG:UFL:self._v = Tuple(*(v_{-1},))\n"
       ]
      },
      {
       "output_type": "stream",
       "stream": "stderr",
       "text": [
        "DEBUG:UFL:In CoefficientAD.coefficient:\n"
       ]
      },
      {
       "output_type": "stream",
       "stream": "stderr",
       "text": [
        "DEBUG:UFL:o = f_26\n"
       ]
      },
      {
       "output_type": "stream",
       "stream": "stderr",
       "text": [
        "DEBUG:UFL:self._w = Tuple(*(f_27,))\n"
       ]
      },
      {
       "output_type": "stream",
       "stream": "stderr",
       "text": [
        "DEBUG:UFL:self._v = Tuple(*(v_{-1},))\n"
       ]
      },
      {
       "output_type": "stream",
       "stream": "stderr",
       "text": [
        "DEBUG:UFL:In CoefficientAD.coefficient:\n"
       ]
      },
      {
       "output_type": "stream",
       "stream": "stderr",
       "text": [
        "DEBUG:UFL:o = f_27\n"
       ]
      },
      {
       "output_type": "stream",
       "stream": "stderr",
       "text": [
        "DEBUG:UFL:self._w = Tuple(*(f_27,))\n"
       ]
      },
      {
       "output_type": "stream",
       "stream": "stderr",
       "text": [
        "DEBUG:UFL:self._v = Tuple(*(v_{-1},))\n"
       ]
      },
      {
       "output_type": "stream",
       "stream": "stderr",
       "text": [
        "DEBUG:UFL:No integrals left after transformation, returning empty form.\n"
       ]
      },
      {
       "output_type": "stream",
       "stream": "stderr",
       "text": [
        "DEBUG:UFL:No integrals left after transformation, returning empty form.\n"
       ]
      },
      {
       "output_type": "stream",
       "stream": "stderr",
       "text": [
        "DEBUG:FFC:Reusing form from cache.\n"
       ]
      }
     ],
     "prompt_number": 85
    },
    {
     "cell_type": "markdown",
     "metadata": {},
     "source": [
      "Construct the solver"
     ]
    },
    {
     "cell_type": "code",
     "collapsed": false,
     "input": [
      "solver = dfn.NonlinearVariationalSolver(problem)"
     ],
     "language": "python",
     "metadata": {},
     "outputs": [],
     "prompt_number": 86
    },
    {
     "cell_type": "markdown",
     "metadata": {},
     "source": [
      "Set the solver parameters"
     ]
    },
    {
     "cell_type": "code",
     "collapsed": false,
     "input": [
      "solver.parameters['nonlinear_solver'] = 'snes'\n",
      "solver.parameters['snes_solver']['method']='virs'\n",
      "solver.parameters['snes_solver']['maximum_iterations']=50\n",
      "solver.parameters['snes_solver']['linear_solver']='mumps'\n",
      "solver.parameters['snes_solver']['preconditioner'] = 'ilu'\n",
      "\n",
      "prm = solver.parameters\n",
      "prm['newton_solver']['absolute_tolerance'] = 1E-8\n",
      "prm['newton_solver']['relative_tolerance'] = 1E-7\n",
      "prm['newton_solver']['maximum_iterations'] = 25\n",
      "prm['newton_solver']['relaxation_parameter'] = 1.0"
     ],
     "language": "python",
     "metadata": {},
     "outputs": [],
     "prompt_number": 87
    },
    {
     "cell_type": "markdown",
     "metadata": {},
     "source": [
      "Write the output to a file. "
     ]
    },
    {
     "cell_type": "code",
     "collapsed": false,
     "input": [
      "file_H = dfn.File(\"./pvd/ShllwIce-VrblPrcp.pvd\")\n",
      "Hout = dfn.Function(V)"
     ],
     "language": "python",
     "metadata": {},
     "outputs": [],
     "prompt_number": 88
    },
    {
     "cell_type": "code",
     "collapsed": false,
     "input": [
      "t = 0\n",
      "while t <= T:\n",
      "    file_H << Hout # write to file.\n",
      "    solver.solve()\n",
      "    H_o.vector()[:] = H_n.vector()\n",
      "    print t                                                                                               \n",
      "    t += dt"
     ],
     "language": "python",
     "metadata": {},
     "outputs": [
      {
       "ename": "RuntimeError",
       "evalue": "\n\n*** -------------------------------------------------------------------------\n*** DOLFIN encountered an error. If you are not able to resolve this issue\n*** using the information listed below, you can ask for help at\n***\n***     fenics@fenicsproject.org\n***\n*** Remember to include the error message listed below and, if possible,\n*** include a *minimal* running example to reproduce the error.\n***\n*** -------------------------------------------------------------------------\n*** Error:   Unable to solve nonlinear system with PETScSNESSolver.\n*** Reason:  Solver did not converge.\n*** Where:   This error was encountered inside PETScSNESSolver.cpp.\n*** Process: 0\n*** \n*** DOLFIN version: 1.3.0\n*** Git changeset:  unknown\n*** -------------------------------------------------------------------------\n",
       "output_type": "pyerr",
       "traceback": [
        "\u001b[1;31m---------------------------------------------------------------------------\u001b[0m\n\u001b[1;31mRuntimeError\u001b[0m                              Traceback (most recent call last)",
        "\u001b[1;32m<ipython-input-89-2497ada623d5>\u001b[0m in \u001b[0;36m<module>\u001b[1;34m()\u001b[0m\n\u001b[0;32m      2\u001b[0m \u001b[1;32mwhile\u001b[0m \u001b[0mt\u001b[0m \u001b[1;33m<=\u001b[0m \u001b[0mT\u001b[0m\u001b[1;33m:\u001b[0m\u001b[1;33m\u001b[0m\u001b[0m\n\u001b[0;32m      3\u001b[0m     \u001b[0mfile_H\u001b[0m \u001b[1;33m<<\u001b[0m \u001b[0mHout\u001b[0m \u001b[1;31m# write to file.\u001b[0m\u001b[1;33m\u001b[0m\u001b[0m\n\u001b[1;32m----> 4\u001b[1;33m     \u001b[0msolver\u001b[0m\u001b[1;33m.\u001b[0m\u001b[0msolve\u001b[0m\u001b[1;33m(\u001b[0m\u001b[1;33m)\u001b[0m\u001b[1;33m\u001b[0m\u001b[0m\n\u001b[0m\u001b[0;32m      5\u001b[0m     \u001b[0mH_o\u001b[0m\u001b[1;33m.\u001b[0m\u001b[0mvector\u001b[0m\u001b[1;33m(\u001b[0m\u001b[1;33m)\u001b[0m\u001b[1;33m[\u001b[0m\u001b[1;33m:\u001b[0m\u001b[1;33m]\u001b[0m \u001b[1;33m=\u001b[0m \u001b[0mH_n\u001b[0m\u001b[1;33m.\u001b[0m\u001b[0mvector\u001b[0m\u001b[1;33m(\u001b[0m\u001b[1;33m)\u001b[0m\u001b[1;33m\u001b[0m\u001b[0m\n\u001b[0;32m      6\u001b[0m     \u001b[1;32mprint\u001b[0m \u001b[0mt\u001b[0m\u001b[1;33m\u001b[0m\u001b[0m\n",
        "\u001b[1;31mRuntimeError\u001b[0m: \n\n*** -------------------------------------------------------------------------\n*** DOLFIN encountered an error. If you are not able to resolve this issue\n*** using the information listed below, you can ask for help at\n***\n***     fenics@fenicsproject.org\n***\n*** Remember to include the error message listed below and, if possible,\n*** include a *minimal* running example to reproduce the error.\n***\n*** -------------------------------------------------------------------------\n*** Error:   Unable to solve nonlinear system with PETScSNESSolver.\n*** Reason:  Solver did not converge.\n*** Where:   This error was encountered inside PETScSNESSolver.cpp.\n*** Process: 0\n*** \n*** DOLFIN version: 1.3.0\n*** Git changeset:  unknown\n*** -------------------------------------------------------------------------\n"
       ]
      }
     ],
     "prompt_number": 89
    },
    {
     "cell_type": "code",
     "collapsed": false,
     "input": [
      "dfn.plot(H_n)\n",
      "dfn.interactive()"
     ],
     "language": "python",
     "metadata": {},
     "outputs": [],
     "prompt_number": "*"
    },
    {
     "cell_type": "code",
     "collapsed": false,
     "input": [],
     "language": "python",
     "metadata": {},
     "outputs": []
    },
    {
     "cell_type": "code",
     "collapsed": false,
     "input": [],
     "language": "python",
     "metadata": {},
     "outputs": []
    }
   ],
   "metadata": {}
  }
 ]
}