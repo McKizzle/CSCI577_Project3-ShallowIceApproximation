{
 "metadata": {
  "name": ""
 },
 "nbformat": 3,
 "nbformat_minor": 0,
 "worksheets": [
  {
   "cells": [
    {
     "cell_type": "markdown",
     "metadata": {},
     "source": [
      "# Greenland Example\n",
      "Run through Jesse's Greenland Example using FEniCS and Paraview"
     ]
    },
    {
     "cell_type": "code",
     "collapsed": false,
     "input": [
      "import dolfin as dfn\n",
      "import numpy as np"
     ],
     "language": "python",
     "metadata": {},
     "outputs": [],
     "prompt_number": 1
    },
    {
     "cell_type": "code",
     "collapsed": false,
     "input": [
      "# Load the data files\n",
      "expth = \"./example/Greenland_10km/\"\n",
      "mesh = dfn.Mesh(expth + \"GIS_mesh_10km.xml\")\n",
      "\n",
      "FS = dfn.FunctionSpace(mesh, \"CG\", 1)\n",
      "\n",
      "adot = dfn.Function(FS)\n",
      "S_o  = dfn.Function(FS)\n",
      "H_o  = dfn.Function(FS)\n",
      "u_o  = dfn.Function(FS)\n",
      "\n",
      "dfn.File(expth + \"adot.xml\") >> adot\n",
      "dfn.File(expth + \"S.xml\") >> S_o\n",
      "dfn.File(expth + \"H.xml\") >> H_o\n",
      "dfn.File(expth + \"vmag.xml\") >> u_o"
     ],
     "language": "python",
     "metadata": {},
     "outputs": [
      {
       "output_type": "stream",
       "stream": "stderr",
       "text": [
        "DEBUG:UFL:No integrals left after transformation, returning empty form.\n"
       ]
      },
      {
       "output_type": "stream",
       "stream": "stderr",
       "text": [
        "DEBUG:FFC:Reusing form from cache.\n"
       ]
      }
     ],
     "prompt_number": 2
    },
    {
     "cell_type": "code",
     "collapsed": false,
     "input": [
      "# FEniCS freezes after closing the plot. \n",
      "dfn.plot(mesh)\n",
      "dfn.plot(S_o)\n",
      "dfn.plot(H_o)\n",
      "dfn.plot(u_o)\n",
      "dfn.interactive()"
     ],
     "language": "python",
     "metadata": {},
     "outputs": [],
     "prompt_number": 3
    },
    {
     "cell_type": "code",
     "collapsed": false,
     "input": [
      "\n"
     ],
     "language": "python",
     "metadata": {},
     "outputs": []
    }
   ],
   "metadata": {}
  }
 ]
}