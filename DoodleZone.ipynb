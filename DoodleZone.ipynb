{
 "metadata": {
  "name": "",
  "signature": "sha256:37c4c881335322caa5a91c5e807a733abba99f2445e2ff02b6649b03e47aed26"
 },
 "nbformat": 3,
 "nbformat_minor": 0,
 "worksheets": [
  {
   "cells": [
    {
     "cell_type": "markdown",
     "metadata": {},
     "source": [
      "# Shallow Ice Doodle Zone\n",
      "Area to experiment on the ice flow."
     ]
    },
    {
     "cell_type": "code",
     "collapsed": false,
     "input": [
      "import dolfin as dfn\n",
      "import numpy as np\n",
      "\n",
      "# Constants Zone\n",
      "n = 3.0             # Flow-law exponent\n",
      "A = 10.0e-16        # 1 / (Pa^3 a)\n",
      "g = 9.81            # m / s**2\n",
      "spy = 31556926.0    # s / a\n",
      "\n",
      "rho_i = 911.0       # kg / m**3\n",
      "n = 3.0             # - dimensionless\n",
      "a_dot = 0.3         # phi is a calculated value on page 4 of the paper.\n",
      "k = 2.1             # W / (m^1 K^1)\n",
      "c_p = 2009.0        # J/(kg * K)\n",
      "T_0 = 273.15        # K\n",
      "beta = 8.7e-4       # 1/(Km)\n",
      "G = 42.0            # mW / M^2\n",
      "\n",
      "\n",
      "T = 50000.0         # Maximum number of years to run the simulation\n",
      "dt = 100.0         # timestep in years. \n",
      "\n",
      "# T is end time\n",
      "# t is current time"
     ],
     "language": "python",
     "metadata": {},
     "outputs": [],
     "prompt_number": 11
    },
    {
     "cell_type": "markdown",
     "metadata": {},
     "source": [
      "## Diffusion Accumulation\n",
      "Implement the diffusion of the accumulation of the ice. "
     ]
    },
    {
     "cell_type": "code",
     "collapsed": false,
     "input": [
      "def dH_boundary(h, on_boundary):\n",
      "    return on_boundary\n",
      "\n",
      "\n",
      "mesh = dfn.RectangleMesh(0, 0, 1500000, 1500000, 31, 31)\n",
      "\n",
      "FS = dfn.FunctionSpace(mesh, 'CG', 1)\n",
      "\n",
      "H_n = dfn.Function(FS)\n",
      "H_o = dfn.Function(FS)\n",
      "dH = dfn.TrialFunction(FS)\n",
      "w = dfn.TestFunction(FS) \n",
      "t = 0.0\n"
     ],
     "language": "python",
     "metadata": {},
     "outputs": [
      {
       "output_type": "stream",
       "stream": "stderr",
       "text": [
        "DEBUG:UFL:No integrals left after transformation, returning empty form.\n"
       ]
      },
      {
       "output_type": "stream",
       "stream": "stderr",
       "text": [
        "DEBUG:FFC:Reusing form from cache.\n"
       ]
      }
     ],
     "prompt_number": 12
    },
    {
     "cell_type": "markdown",
     "metadata": {},
     "source": [
      "- : -\n",
      "\n",
      "<!--### Residual Function\n",
      "Lets define the residual function in FEniCS. \n",
      "\n",
      "\\begin{align}\n",
      "R &= \\frac{\\partial H}{\\partial t} - \\nabla D(H) \\nabla H  + \\dot{a} = 0\\\\\n",
      "\\end{align}\n",
      "\n",
      "- Note to self: the `dot` function representss the $\\sum$ in teh notes. There is also the `inner` function. \n",
      "- __I have not determine if we need to use the residual function in the SUPG stabilization yet__\n",
      "-->"
     ]
    },
    {
     "cell_type": "code",
     "collapsed": false,
     "input": [
      "def D(H):\n",
      "    return ((2.0 * A * (rho_i * g)**n) / (n + 2.0)) * H**(n + 2.0) \\\n",
      "        * dfn.dot(dfn.grad(H), dfn.grad(H))**((n - 1.0) / 2.0)"
     ],
     "language": "python",
     "metadata": {},
     "outputs": [],
     "prompt_number": 13
    },
    {
     "cell_type": "code",
     "collapsed": false,
     "input": [
      "F = (((H_n - H_o) / dt) * w) + (D(H_n) * dfn.dot(dfn.grad(H_n), dfn.grad(w))) - (a_dot * w)\n",
      "F = F * dfn.dx"
     ],
     "language": "python",
     "metadata": {},
     "outputs": [],
     "prompt_number": 14
    },
    {
     "cell_type": "code",
     "collapsed": false,
     "input": [
      "f = dfn.Constant(0)\n",
      "bc = dfn.DirichletBC(FS, f, dH_boundary)"
     ],
     "language": "python",
     "metadata": {},
     "outputs": [],
     "prompt_number": 15
    },
    {
     "cell_type": "code",
     "collapsed": false,
     "input": [
      "# Calculate the Jacobian Matrix\n",
      "J = dfn.derivative(F, H_n, dH)\n",
      "problem = dfn.NonlinearVariationalProblem(F, H_n, bc, J)\n",
      "solver  = dfn.NonlinearVariationalSolver(problem)\n",
      "\n",
      "slvr_prms = solver.parameters;\n",
      "solver.parameters['nonlinear_solver'] = 'snes'\n",
      "solver.parameters['snes_solver']['method']='virs'\n",
      "solver.parameters['snes_solver']['maximum_iterations']=50\n",
      "solver.parameters['snes_solver']['linear_solver']='mumps'\n",
      "solver.parameters['snes_solver']['preconditioner'] = 'ilu'\n",
      "#dfn.info(slvr_prms, verbose=True)\n",
      "#slvr_prms[\"nonlinear_solver\"] = \"newton\""
     ],
     "language": "python",
     "metadata": {},
     "outputs": [
      {
       "output_type": "stream",
       "stream": "stderr",
       "text": [
        "DEBUG:FFC:Reusing form from cache.\n"
       ]
      },
      {
       "output_type": "stream",
       "stream": "stderr",
       "text": [
        "DEBUG:UFL:In CoefficientAD.coefficient:\n"
       ]
      },
      {
       "output_type": "stream",
       "stream": "stderr",
       "text": [
        "DEBUG:UFL:o = f_0\n"
       ]
      },
      {
       "output_type": "stream",
       "stream": "stderr",
       "text": [
        "DEBUG:UFL:self._w = Tuple(*(f_0,))\n"
       ]
      },
      {
       "output_type": "stream",
       "stream": "stderr",
       "text": [
        "DEBUG:UFL:self._v = Tuple(*(v_{-1},))\n"
       ]
      },
      {
       "output_type": "stream",
       "stream": "stderr",
       "text": [
        "DEBUG:UFL:In CoefficientAD.coefficient:\n"
       ]
      },
      {
       "output_type": "stream",
       "stream": "stderr",
       "text": [
        "DEBUG:UFL:o = f_1\n"
       ]
      },
      {
       "output_type": "stream",
       "stream": "stderr",
       "text": [
        "DEBUG:UFL:self._w = Tuple(*(f_0,))\n"
       ]
      },
      {
       "output_type": "stream",
       "stream": "stderr",
       "text": [
        "DEBUG:UFL:self._v = Tuple(*(v_{-1},))\n"
       ]
      },
      {
       "output_type": "stream",
       "stream": "stderr",
       "text": [
        "DEBUG:UFL:In CoefficientAD.coefficient:\n"
       ]
      },
      {
       "output_type": "stream",
       "stream": "stderr",
       "text": [
        "DEBUG:UFL:o = f_0\n"
       ]
      },
      {
       "output_type": "stream",
       "stream": "stderr",
       "text": [
        "DEBUG:UFL:self._w = Tuple(*(f_0,))\n"
       ]
      },
      {
       "output_type": "stream",
       "stream": "stderr",
       "text": [
        "DEBUG:UFL:self._v = Tuple(*(v_{-1},))\n"
       ]
      },
      {
       "output_type": "stream",
       "stream": "stderr",
       "text": [
        "DEBUG:UFL:No integrals left after transformation, returning empty form.\n"
       ]
      },
      {
       "output_type": "stream",
       "stream": "stderr",
       "text": [
        "DEBUG:UFL:No integrals left after transformation, returning empty form.\n"
       ]
      },
      {
       "output_type": "stream",
       "stream": "stderr",
       "text": [
        "DEBUG:FFC:Reusing form from cache.\n"
       ]
      }
     ],
     "prompt_number": 8
    },
    {
     "cell_type": "code",
     "collapsed": false,
     "input": [
      "icesim_file = dfn.File(\"icesim_out.pvd\", \"compressed\")\n",
      "\n",
      "# Bounds need to be functions\n",
      "lb = dfn.interpolate(dfn.Expression('0'),FS)   # lower\n",
      "ub = dfn.interpolate(dfn.Expression('0'),FS) # upper\n",
      "\n",
      "t = dt\n",
      "while t <= T:\n",
      "    print \"Time: %0.2f\" % t\n",
      "    t += dt\n",
      "    solver.solve(lb, ub)\n",
      "    H_o.vector()[:] = H_n.vector()\n",
      "    #dfn.plot(H_n)\n",
      "    #icesim_file << (H_o.split()[0], t)"
     ],
     "language": "python",
     "metadata": {},
     "outputs": [
      {
       "output_type": "stream",
       "stream": "stdout",
       "text": [
        "Time: 100.00\n",
        "Time: 200.00\n",
        "Time: 300.00\n",
        "Time: 400.00"
       ]
      },
      {
       "output_type": "stream",
       "stream": "stdout",
       "text": [
        "\n",
        "Time: 500.00\n",
        "Time: 600.00\n",
        "Time: 700.00"
       ]
      },
      {
       "output_type": "stream",
       "stream": "stdout",
       "text": [
        "\n",
        "Time: 800.00\n",
        "Time: 900.00\n",
        "Time: 1000.00"
       ]
      },
      {
       "output_type": "stream",
       "stream": "stdout",
       "text": [
        "\n",
        "Time: 1100.00\n",
        "Time: 1200.00\n",
        "Time: 1300.00"
       ]
      },
      {
       "output_type": "stream",
       "stream": "stdout",
       "text": [
        "\n",
        "Time: 1400.00\n",
        "Time: 1500.00\n",
        "Time: 1600.00"
       ]
      },
      {
       "output_type": "stream",
       "stream": "stdout",
       "text": [
        "\n",
        "Time: 1700.00\n",
        "Time: 1800.00\n",
        "Time: 1900.00"
       ]
      },
      {
       "output_type": "stream",
       "stream": "stdout",
       "text": [
        "\n",
        "Time: 2000.00\n",
        "Time: 2100.00\n",
        "Time: 2200.00"
       ]
      },
      {
       "output_type": "stream",
       "stream": "stdout",
       "text": [
        "\n",
        "Time: 2300.00\n",
        "Time: 2400.00\n",
        "Time: 2500.00"
       ]
      },
      {
       "output_type": "stream",
       "stream": "stdout",
       "text": [
        "\n",
        "Time: 2600.00\n",
        "Time: 2700.00\n",
        "Time: 2800.00"
       ]
      },
      {
       "output_type": "stream",
       "stream": "stdout",
       "text": [
        "\n",
        "Time: 2900.00\n",
        "Time: 3000.00\n",
        "Time: 3100.00"
       ]
      },
      {
       "output_type": "stream",
       "stream": "stdout",
       "text": [
        "\n",
        "Time: 3200.00\n",
        "Time: 3300.00\n",
        "Time: 3400.00"
       ]
      },
      {
       "output_type": "stream",
       "stream": "stdout",
       "text": [
        "\n",
        "Time: 3500.00\n",
        "Time: 3600.00\n",
        "Time: 3700.00"
       ]
      },
      {
       "output_type": "stream",
       "stream": "stdout",
       "text": [
        "\n",
        "Time: 3800.00\n",
        "Time: 3900.00\n",
        "Time: 4000.00"
       ]
      },
      {
       "output_type": "stream",
       "stream": "stdout",
       "text": [
        "\n",
        "Time: 4100.00\n",
        "Time: 4200.00\n",
        "Time: 4300.00"
       ]
      },
      {
       "output_type": "stream",
       "stream": "stdout",
       "text": [
        "\n",
        "Time: 4400.00\n",
        "Time: 4500.00\n",
        "Time: 4600.00"
       ]
      },
      {
       "output_type": "stream",
       "stream": "stdout",
       "text": [
        "\n",
        "Time: 4700.00\n",
        "Time: 4800.00\n",
        "Time: 4900.00"
       ]
      },
      {
       "output_type": "stream",
       "stream": "stdout",
       "text": [
        "\n",
        "Time: 5000.00\n",
        "Time: 5100.00\n",
        "Time: 5200.00"
       ]
      },
      {
       "output_type": "stream",
       "stream": "stdout",
       "text": [
        "\n",
        "Time: 5300.00\n",
        "Time: 5400.00\n",
        "Time: 5500.00"
       ]
      },
      {
       "output_type": "stream",
       "stream": "stdout",
       "text": [
        "\n",
        "Time: 5600.00\n",
        "Time: 5700.00\n",
        "Time: 5800.00"
       ]
      },
      {
       "output_type": "stream",
       "stream": "stdout",
       "text": [
        "\n",
        "Time: 5900.00\n",
        "Time: 6000.00"
       ]
      },
      {
       "output_type": "stream",
       "stream": "stdout",
       "text": [
        "\n",
        "Time: 6100.00\n",
        "Time: 6200.00"
       ]
      },
      {
       "output_type": "stream",
       "stream": "stdout",
       "text": [
        "\n",
        "Time: 6300.00\n",
        "Time: 6400.00"
       ]
      },
      {
       "output_type": "stream",
       "stream": "stdout",
       "text": [
        "\n",
        "Time: 6500.00\n",
        "Time: 6600.00\n",
        "Time: 6700.00"
       ]
      },
      {
       "output_type": "stream",
       "stream": "stdout",
       "text": [
        "\n",
        "Time: 6800.00\n",
        "Time: 6900.00\n",
        "Time: 7000.00"
       ]
      },
      {
       "output_type": "stream",
       "stream": "stdout",
       "text": [
        "\n",
        "Time: 7100.00\n",
        "Time: 7200.00\n",
        "Time: 7300.00"
       ]
      },
      {
       "output_type": "stream",
       "stream": "stdout",
       "text": [
        "\n",
        "Time: 7400.00\n",
        "Time: 7500.00\n",
        "Time: 7600.00"
       ]
      },
      {
       "output_type": "stream",
       "stream": "stdout",
       "text": [
        "\n",
        "Time: 7700.00\n",
        "Time: 7800.00\n",
        "Time: 7900.00"
       ]
      },
      {
       "output_type": "stream",
       "stream": "stdout",
       "text": [
        "\n",
        "Time: 8000.00\n",
        "Time: 8100.00\n",
        "Time: 8200.00"
       ]
      },
      {
       "output_type": "stream",
       "stream": "stdout",
       "text": [
        "\n",
        "Time: 8300.00\n",
        "Time: 8400.00\n",
        "Time: 8500.00"
       ]
      },
      {
       "output_type": "stream",
       "stream": "stdout",
       "text": [
        "\n",
        "Time: 8600.00\n",
        "Time: 8700.00\n",
        "Time: 8800.00"
       ]
      },
      {
       "output_type": "stream",
       "stream": "stdout",
       "text": [
        "\n",
        "Time: 8900.00\n",
        "Time: 9000.00\n",
        "Time: 9100.00"
       ]
      },
      {
       "output_type": "stream",
       "stream": "stdout",
       "text": [
        "\n",
        "Time: 9200.00\n",
        "Time: 9300.00\n",
        "Time: 9400.00"
       ]
      },
      {
       "output_type": "stream",
       "stream": "stdout",
       "text": [
        "\n",
        "Time: 9500.00\n",
        "Time: 9600.00\n",
        "Time: 9700.00"
       ]
      },
      {
       "output_type": "stream",
       "stream": "stdout",
       "text": [
        "\n",
        "Time: 9800.00\n",
        "Time: 9900.00\n",
        "Time: 10000.00"
       ]
      },
      {
       "output_type": "stream",
       "stream": "stdout",
       "text": [
        "\n",
        "Time: 10100.00\n",
        "Time: 10200.00\n",
        "Time: 10300.00"
       ]
      },
      {
       "output_type": "stream",
       "stream": "stdout",
       "text": [
        "\n",
        "Time: 10400.00\n",
        "Time: 10500.00\n",
        "Time: 10600.00"
       ]
      },
      {
       "output_type": "stream",
       "stream": "stdout",
       "text": [
        "\n",
        "Time: 10700.00\n",
        "Time: 10800.00\n",
        "Time: 10900.00"
       ]
      },
      {
       "output_type": "stream",
       "stream": "stdout",
       "text": [
        "\n",
        "Time: 11000.00\n",
        "Time: 11100.00\n",
        "Time: 11200.00"
       ]
      },
      {
       "output_type": "stream",
       "stream": "stdout",
       "text": [
        "\n",
        "Time: 11300.00\n",
        "Time: 11400.00\n",
        "Time: 11500.00"
       ]
      },
      {
       "output_type": "stream",
       "stream": "stdout",
       "text": [
        "\n",
        "Time: 11600.00\n",
        "Time: 11700.00\n",
        "Time: 11800.00"
       ]
      },
      {
       "output_type": "stream",
       "stream": "stdout",
       "text": [
        "\n",
        "Time: 11900.00\n",
        "Time: 12000.00\n",
        "Time: 12100.00"
       ]
      },
      {
       "output_type": "stream",
       "stream": "stdout",
       "text": [
        "\n",
        "Time: 12200.00\n",
        "Time: 12300.00\n",
        "Time: 12400.00"
       ]
      },
      {
       "output_type": "stream",
       "stream": "stdout",
       "text": [
        "\n",
        "Time: 12500.00\n",
        "Time: 12600.00\n",
        "Time: 12700.00"
       ]
      },
      {
       "output_type": "stream",
       "stream": "stdout",
       "text": [
        "\n",
        "Time: 12800.00\n",
        "Time: 12900.00\n",
        "Time: 13000.00"
       ]
      },
      {
       "output_type": "stream",
       "stream": "stdout",
       "text": [
        "\n",
        "Time: 13100.00\n",
        "Time: 13200.00\n",
        "Time: 13300.00"
       ]
      },
      {
       "output_type": "stream",
       "stream": "stdout",
       "text": [
        "\n",
        "Time: 13400.00\n",
        "Time: 13500.00\n",
        "Time: 13600.00"
       ]
      },
      {
       "output_type": "stream",
       "stream": "stdout",
       "text": [
        "\n",
        "Time: 13700.00\n",
        "Time: 13800.00\n",
        "Time: 13900.00"
       ]
      },
      {
       "output_type": "stream",
       "stream": "stdout",
       "text": [
        "\n",
        "Time: 14000.00\n",
        "Time: 14100.00\n",
        "Time: 14200.00"
       ]
      },
      {
       "output_type": "stream",
       "stream": "stdout",
       "text": [
        "\n",
        "Time: 14300.00\n",
        "Time: 14400.00\n",
        "Time: 14500.00"
       ]
      },
      {
       "output_type": "stream",
       "stream": "stdout",
       "text": [
        "\n",
        "Time: 14600.00\n",
        "Time: 14700.00\n",
        "Time: 14800.00"
       ]
      },
      {
       "output_type": "stream",
       "stream": "stdout",
       "text": [
        "\n",
        "Time: 14900.00\n",
        "Time: 15000.00\n",
        "Time: 15100.00"
       ]
      },
      {
       "output_type": "stream",
       "stream": "stdout",
       "text": [
        "\n",
        "Time: 15200.00\n",
        "Time: 15300.00\n",
        "Time: 15400.00"
       ]
      },
      {
       "output_type": "stream",
       "stream": "stdout",
       "text": [
        "\n",
        "Time: 15500.00\n",
        "Time: 15600.00\n",
        "Time: 15700.00"
       ]
      },
      {
       "output_type": "stream",
       "stream": "stdout",
       "text": [
        "\n",
        "Time: 15800.00\n",
        "Time: 15900.00\n",
        "Time: 16000.00"
       ]
      },
      {
       "output_type": "stream",
       "stream": "stdout",
       "text": [
        "\n",
        "Time: 16100.00\n",
        "Time: 16200.00\n",
        "Time: 16300.00"
       ]
      },
      {
       "output_type": "stream",
       "stream": "stdout",
       "text": [
        "\n",
        "Time: 16400.00\n",
        "Time: 16500.00\n",
        "Time: 16600.00"
       ]
      },
      {
       "output_type": "stream",
       "stream": "stdout",
       "text": [
        "\n",
        "Time: 16700.00\n",
        "Time: 16800.00\n",
        "Time: 16900.00"
       ]
      },
      {
       "output_type": "stream",
       "stream": "stdout",
       "text": [
        "\n",
        "Time: 17000.00\n",
        "Time: 17100.00\n",
        "Time: 17200.00"
       ]
      },
      {
       "output_type": "stream",
       "stream": "stdout",
       "text": [
        "\n",
        "Time: 17300.00\n",
        "Time: 17400.00\n",
        "Time: 17500.00"
       ]
      },
      {
       "output_type": "stream",
       "stream": "stdout",
       "text": [
        "\n",
        "Time: 17600.00\n",
        "Time: 17700.00\n",
        "Time: 17800.00"
       ]
      },
      {
       "output_type": "stream",
       "stream": "stdout",
       "text": [
        "\n",
        "Time: 17900.00\n",
        "Time: 18000.00\n",
        "Time: 18100.00"
       ]
      },
      {
       "output_type": "stream",
       "stream": "stdout",
       "text": [
        "\n",
        "Time: 18200.00\n",
        "Time: 18300.00\n",
        "Time: 18400.00"
       ]
      },
      {
       "output_type": "stream",
       "stream": "stdout",
       "text": [
        "\n",
        "Time: 18500.00\n",
        "Time: 18600.00\n",
        "Time: 18700.00"
       ]
      },
      {
       "output_type": "stream",
       "stream": "stdout",
       "text": [
        "\n",
        "Time: 18800.00\n",
        "Time: 18900.00\n",
        "Time: 19000.00"
       ]
      },
      {
       "output_type": "stream",
       "stream": "stdout",
       "text": [
        "\n",
        "Time: 19100.00\n",
        "Time: 19200.00\n",
        "Time: 19300.00"
       ]
      },
      {
       "output_type": "stream",
       "stream": "stdout",
       "text": [
        "\n",
        "Time: 19400.00\n",
        "Time: 19500.00\n",
        "Time: 19600.00"
       ]
      },
      {
       "output_type": "stream",
       "stream": "stdout",
       "text": [
        "\n",
        "Time: 19700.00\n",
        "Time: 19800.00\n",
        "Time: 19900.00"
       ]
      },
      {
       "output_type": "stream",
       "stream": "stdout",
       "text": [
        "\n",
        "Time: 20000.00\n",
        "Time: 20100.00\n",
        "Time: 20200.00"
       ]
      },
      {
       "output_type": "stream",
       "stream": "stdout",
       "text": [
        "\n",
        "Time: 20300.00\n",
        "Time: 20400.00\n",
        "Time: 20500.00"
       ]
      },
      {
       "output_type": "stream",
       "stream": "stdout",
       "text": [
        "\n",
        "Time: 20600.00\n",
        "Time: 20700.00\n",
        "Time: 20800.00"
       ]
      },
      {
       "output_type": "stream",
       "stream": "stdout",
       "text": [
        "\n",
        "Time: 20900.00\n",
        "Time: 21000.00\n",
        "Time: 21100.00"
       ]
      },
      {
       "output_type": "stream",
       "stream": "stdout",
       "text": [
        "\n",
        "Time: 21200.00\n",
        "Time: 21300.00\n",
        "Time: 21400.00"
       ]
      },
      {
       "output_type": "stream",
       "stream": "stdout",
       "text": [
        "\n",
        "Time: 21500.00\n",
        "Time: 21600.00\n",
        "Time: 21700.00"
       ]
      },
      {
       "output_type": "stream",
       "stream": "stdout",
       "text": [
        "\n",
        "Time: 21800.00\n",
        "Time: 21900.00\n",
        "Time: 22000.00"
       ]
      },
      {
       "output_type": "stream",
       "stream": "stdout",
       "text": [
        "\n",
        "Time: 22100.00\n",
        "Time: 22200.00\n",
        "Time: 22300.00"
       ]
      },
      {
       "output_type": "stream",
       "stream": "stdout",
       "text": [
        "\n",
        "Time: 22400.00\n",
        "Time: 22500.00\n",
        "Time: 22600.00"
       ]
      },
      {
       "output_type": "stream",
       "stream": "stdout",
       "text": [
        "\n",
        "Time: 22700.00\n",
        "Time: 22800.00\n",
        "Time: 22900.00\n",
        "Time: 23000.00"
       ]
      },
      {
       "output_type": "stream",
       "stream": "stdout",
       "text": [
        "\n",
        "Time: 23100.00\n",
        "Time: 23200.00\n",
        "Time: 23300.00"
       ]
      },
      {
       "output_type": "stream",
       "stream": "stdout",
       "text": [
        "\n",
        "Time: 23400.00\n",
        "Time: 23500.00\n",
        "Time: 23600.00"
       ]
      },
      {
       "output_type": "stream",
       "stream": "stdout",
       "text": [
        "\n",
        "Time: 23700.00\n",
        "Time: 23800.00\n",
        "Time: 23900.00"
       ]
      },
      {
       "output_type": "stream",
       "stream": "stdout",
       "text": [
        "\n",
        "Time: 24000.00\n",
        "Time: 24100.00\n",
        "Time: 24200.00"
       ]
      },
      {
       "output_type": "stream",
       "stream": "stdout",
       "text": [
        "\n",
        "Time: 24300.00\n",
        "Time: 24400.00\n",
        "Time: 24500.00"
       ]
      },
      {
       "output_type": "stream",
       "stream": "stdout",
       "text": [
        "\n",
        "Time: 24600.00\n",
        "Time: 24700.00\n",
        "Time: 24800.00"
       ]
      },
      {
       "output_type": "stream",
       "stream": "stdout",
       "text": [
        "\n",
        "Time: 24900.00\n",
        "Time: 25000.00\n",
        "Time: 25100.00"
       ]
      },
      {
       "output_type": "stream",
       "stream": "stdout",
       "text": [
        "\n",
        "Time: 25200.00\n",
        "Time: 25300.00\n",
        "Time: 25400.00"
       ]
      },
      {
       "output_type": "stream",
       "stream": "stdout",
       "text": [
        "\n",
        "Time: 25500.00\n",
        "Time: 25600.00\n",
        "Time: 25700.00"
       ]
      },
      {
       "output_type": "stream",
       "stream": "stdout",
       "text": [
        "\n",
        "Time: 25800.00\n",
        "Time: 25900.00\n",
        "Time: 26000.00"
       ]
      },
      {
       "output_type": "stream",
       "stream": "stdout",
       "text": [
        "\n",
        "Time: 26100.00\n",
        "Time: 26200.00\n",
        "Time: 26300.00\n"
       ]
      },
      {
       "output_type": "stream",
       "stream": "stdout",
       "text": [
        "Time: 26400.00\n",
        "Time: 26500.00\n",
        "Time: 26600.00\n",
        "Time: 26700.00"
       ]
      },
      {
       "output_type": "stream",
       "stream": "stdout",
       "text": [
        "\n",
        "Time: 26800.00\n",
        "Time: 26900.00\n",
        "Time: 27000.00"
       ]
      },
      {
       "output_type": "stream",
       "stream": "stdout",
       "text": [
        "\n",
        "Time: 27100.00\n",
        "Time: 27200.00\n",
        "Time: 27300.00"
       ]
      },
      {
       "output_type": "stream",
       "stream": "stdout",
       "text": [
        "\n",
        "Time: 27400.00\n",
        "Time: 27500.00\n",
        "Time: 27600.00"
       ]
      },
      {
       "output_type": "stream",
       "stream": "stdout",
       "text": [
        "\n",
        "Time: 27700.00\n",
        "Time: 27800.00\n",
        "Time: 27900.00"
       ]
      },
      {
       "output_type": "stream",
       "stream": "stdout",
       "text": [
        "\n",
        "Time: 28000.00\n",
        "Time: 28100.00\n",
        "Time: 28200.00"
       ]
      },
      {
       "output_type": "stream",
       "stream": "stdout",
       "text": [
        "\n",
        "Time: 28300.00\n",
        "Time: 28400.00\n",
        "Time: 28500.00"
       ]
      },
      {
       "output_type": "stream",
       "stream": "stdout",
       "text": [
        "\n",
        "Time: 28600.00\n",
        "Time: 28700.00\n",
        "Time: 28800.00"
       ]
      },
      {
       "output_type": "stream",
       "stream": "stdout",
       "text": [
        "\n",
        "Time: 28900.00\n",
        "Time: 29000.00\n",
        "Time: 29100.00"
       ]
      },
      {
       "output_type": "stream",
       "stream": "stdout",
       "text": [
        "\n",
        "Time: 29200.00\n",
        "Time: 29300.00\n",
        "Time: 29400.00"
       ]
      },
      {
       "output_type": "stream",
       "stream": "stdout",
       "text": [
        "\n",
        "Time: 29500.00\n",
        "Time: 29600.00\n",
        "Time: 29700.00"
       ]
      },
      {
       "output_type": "stream",
       "stream": "stdout",
       "text": [
        "\n",
        "Time: 29800.00\n",
        "Time: 29900.00\n",
        "Time: 30000.00"
       ]
      },
      {
       "output_type": "stream",
       "stream": "stdout",
       "text": [
        "\n",
        "Time: 30100.00\n",
        "Time: 30200.00\n",
        "Time: 30300.00"
       ]
      },
      {
       "output_type": "stream",
       "stream": "stdout",
       "text": [
        "\n",
        "Time: 30400.00\n",
        "Time: 30500.00\n",
        "Time: 30600.00"
       ]
      },
      {
       "output_type": "stream",
       "stream": "stdout",
       "text": [
        "\n",
        "Time: 30700.00\n",
        "Time: 30800.00\n",
        "Time: 30900.00"
       ]
      },
      {
       "output_type": "stream",
       "stream": "stdout",
       "text": [
        "\n",
        "Time: 31000.00\n",
        "Time: 31100.00\n",
        "Time: 31200.00"
       ]
      },
      {
       "output_type": "stream",
       "stream": "stdout",
       "text": [
        "\n",
        "Time: 31300.00\n",
        "Time: 31400.00\n",
        "Time: 31500.00"
       ]
      },
      {
       "output_type": "stream",
       "stream": "stdout",
       "text": [
        "\n",
        "Time: 31600.00\n",
        "Time: 31700.00\n",
        "Time: 31800.00"
       ]
      },
      {
       "output_type": "stream",
       "stream": "stdout",
       "text": [
        "\n",
        "Time: 31900.00\n",
        "Time: 32000.00\n",
        "Time: 32100.00"
       ]
      },
      {
       "output_type": "stream",
       "stream": "stdout",
       "text": [
        "\n",
        "Time: 32200.00\n",
        "Time: 32300.00\n",
        "Time: 32400.00"
       ]
      },
      {
       "output_type": "stream",
       "stream": "stdout",
       "text": [
        "\n",
        "Time: 32500.00\n",
        "Time: 32600.00\n",
        "Time: 32700.00"
       ]
      },
      {
       "output_type": "stream",
       "stream": "stdout",
       "text": [
        "\n",
        "Time: 32800.00\n",
        "Time: 32900.00\n",
        "Time: 33000.00"
       ]
      },
      {
       "output_type": "stream",
       "stream": "stdout",
       "text": [
        "\n",
        "Time: 33100.00\n",
        "Time: 33200.00\n",
        "Time: 33300.00"
       ]
      },
      {
       "output_type": "stream",
       "stream": "stdout",
       "text": [
        "\n",
        "Time: 33400.00\n",
        "Time: 33500.00\n",
        "Time: 33600.00"
       ]
      },
      {
       "output_type": "stream",
       "stream": "stdout",
       "text": [
        "\n",
        "Time: 33700.00\n",
        "Time: 33800.00\n",
        "Time: 33900.00"
       ]
      },
      {
       "output_type": "stream",
       "stream": "stdout",
       "text": [
        "\n",
        "Time: 34000.00\n",
        "Time: 34100.00\n",
        "Time: 34200.00"
       ]
      },
      {
       "output_type": "stream",
       "stream": "stdout",
       "text": [
        "\n",
        "Time: 34300.00\n",
        "Time: 34400.00\n",
        "Time: 34500.00"
       ]
      },
      {
       "output_type": "stream",
       "stream": "stdout",
       "text": [
        "\n",
        "Time: 34600.00\n",
        "Time: 34700.00\n",
        "Time: 34800.00"
       ]
      },
      {
       "output_type": "stream",
       "stream": "stdout",
       "text": [
        "\n",
        "Time: 34900.00\n",
        "Time: 35000.00\n",
        "Time: 35100.00"
       ]
      },
      {
       "output_type": "stream",
       "stream": "stdout",
       "text": [
        "\n",
        "Time: 35200.00\n",
        "Time: 35300.00\n",
        "Time: 35400.00"
       ]
      },
      {
       "output_type": "stream",
       "stream": "stdout",
       "text": [
        "\n",
        "Time: 35500.00\n",
        "Time: 35600.00\n",
        "Time: 35700.00"
       ]
      },
      {
       "output_type": "stream",
       "stream": "stdout",
       "text": [
        "\n",
        "Time: 35800.00\n",
        "Time: 35900.00\n",
        "Time: 36000.00"
       ]
      },
      {
       "output_type": "stream",
       "stream": "stdout",
       "text": [
        "\n",
        "Time: 36100.00\n",
        "Time: 36200.00\n",
        "Time: 36300.00"
       ]
      },
      {
       "output_type": "stream",
       "stream": "stdout",
       "text": [
        "\n",
        "Time: 36400.00\n",
        "Time: 36500.00\n",
        "Time: 36600.00"
       ]
      },
      {
       "output_type": "stream",
       "stream": "stdout",
       "text": [
        "\n",
        "Time: 36700.00\n",
        "Time: 36800.00\n",
        "Time: 36900.00"
       ]
      },
      {
       "output_type": "stream",
       "stream": "stdout",
       "text": [
        "\n",
        "Time: 37000.00\n",
        "Time: 37100.00\n",
        "Time: 37200.00"
       ]
      },
      {
       "output_type": "stream",
       "stream": "stdout",
       "text": [
        "\n",
        "Time: 37300.00\n",
        "Time: 37400.00\n",
        "Time: 37500.00"
       ]
      },
      {
       "output_type": "stream",
       "stream": "stdout",
       "text": [
        "\n",
        "Time: 37600.00\n",
        "Time: 37700.00\n",
        "Time: 37800.00"
       ]
      },
      {
       "output_type": "stream",
       "stream": "stdout",
       "text": [
        "\n",
        "Time: 37900.00\n",
        "Time: 38000.00\n",
        "Time: 38100.00"
       ]
      },
      {
       "output_type": "stream",
       "stream": "stdout",
       "text": [
        "\n",
        "Time: 38200.00\n",
        "Time: 38300.00\n",
        "Time: 38400.00"
       ]
      },
      {
       "output_type": "stream",
       "stream": "stdout",
       "text": [
        "\n",
        "Time: 38500.00\n",
        "Time: 38600.00\n",
        "Time: 38700.00"
       ]
      },
      {
       "output_type": "stream",
       "stream": "stdout",
       "text": [
        "\n",
        "Time: 38800.00\n",
        "Time: 38900.00\n",
        "Time: 39000.00"
       ]
      },
      {
       "output_type": "stream",
       "stream": "stdout",
       "text": [
        "\n",
        "Time: 39100.00\n",
        "Time: 39200.00\n",
        "Time: 39300.00"
       ]
      },
      {
       "output_type": "stream",
       "stream": "stdout",
       "text": [
        "\n",
        "Time: 39400.00\n",
        "Time: 39500.00\n",
        "Time: 39600.00"
       ]
      },
      {
       "output_type": "stream",
       "stream": "stdout",
       "text": [
        "\n",
        "Time: 39700.00\n",
        "Time: 39800.00\n",
        "Time: 39900.00"
       ]
      },
      {
       "output_type": "stream",
       "stream": "stdout",
       "text": [
        "\n",
        "Time: 40000.00\n",
        "Time: 40100.00\n",
        "Time: 40200.00"
       ]
      },
      {
       "output_type": "stream",
       "stream": "stdout",
       "text": [
        "\n",
        "Time: 40300.00\n",
        "Time: 40400.00\n",
        "Time: 40500.00"
       ]
      },
      {
       "output_type": "stream",
       "stream": "stdout",
       "text": [
        "\n",
        "Time: 40600.00\n",
        "Time: 40700.00\n",
        "Time: 40800.00"
       ]
      },
      {
       "output_type": "stream",
       "stream": "stdout",
       "text": [
        "\n",
        "Time: 40900.00\n",
        "Time: 41000.00\n",
        "Time: 41100.00"
       ]
      },
      {
       "output_type": "stream",
       "stream": "stdout",
       "text": [
        "\n",
        "Time: 41200.00\n",
        "Time: 41300.00\n",
        "Time: 41400.00"
       ]
      },
      {
       "output_type": "stream",
       "stream": "stdout",
       "text": [
        "\n",
        "Time: 41500.00\n",
        "Time: 41600.00\n",
        "Time: 41700.00"
       ]
      },
      {
       "output_type": "stream",
       "stream": "stdout",
       "text": [
        "\n",
        "Time: 41800.00\n",
        "Time: 41900.00\n",
        "Time: 42000.00"
       ]
      },
      {
       "output_type": "stream",
       "stream": "stdout",
       "text": [
        "\n",
        "Time: 42100.00\n",
        "Time: 42200.00\n",
        "Time: 42300.00"
       ]
      },
      {
       "output_type": "stream",
       "stream": "stdout",
       "text": [
        "\n",
        "Time: 42400.00\n",
        "Time: 42500.00\n",
        "Time: 42600.00"
       ]
      },
      {
       "output_type": "stream",
       "stream": "stdout",
       "text": [
        "\n",
        "Time: 42700.00\n",
        "Time: 42800.00\n",
        "Time: 42900.00"
       ]
      },
      {
       "output_type": "stream",
       "stream": "stdout",
       "text": [
        "\n",
        "Time: 43000.00\n",
        "Time: 43100.00\n",
        "Time: 43200.00"
       ]
      },
      {
       "output_type": "stream",
       "stream": "stdout",
       "text": [
        "\n",
        "Time: 43300.00\n",
        "Time: 43400.00\n",
        "Time: 43500.00"
       ]
      },
      {
       "output_type": "stream",
       "stream": "stdout",
       "text": [
        "\n",
        "Time: 43600.00\n",
        "Time: 43700.00\n",
        "Time: 43800.00"
       ]
      },
      {
       "output_type": "stream",
       "stream": "stdout",
       "text": [
        "\n",
        "Time: 43900.00\n",
        "Time: 44000.00\n",
        "Time: 44100.00"
       ]
      },
      {
       "output_type": "stream",
       "stream": "stdout",
       "text": [
        "\n",
        "Time: 44200.00\n",
        "Time: 44300.00\n",
        "Time: 44400.00"
       ]
      },
      {
       "output_type": "stream",
       "stream": "stdout",
       "text": [
        "\n",
        "Time: 44500.00\n",
        "Time: 44600.00\n",
        "Time: 44700.00"
       ]
      },
      {
       "output_type": "stream",
       "stream": "stdout",
       "text": [
        "\n",
        "Time: 44800.00\n",
        "Time: 44900.00\n",
        "Time: 45000.00"
       ]
      },
      {
       "output_type": "stream",
       "stream": "stdout",
       "text": [
        "\n",
        "Time: 45100.00\n",
        "Time: 45200.00\n",
        "Time: 45300.00"
       ]
      },
      {
       "output_type": "stream",
       "stream": "stdout",
       "text": [
        "\n",
        "Time: 45400.00\n",
        "Time: 45500.00\n",
        "Time: 45600.00"
       ]
      },
      {
       "output_type": "stream",
       "stream": "stdout",
       "text": [
        "\n",
        "Time: 45700.00\n",
        "Time: 45800.00\n",
        "Time: 45900.00"
       ]
      },
      {
       "output_type": "stream",
       "stream": "stdout",
       "text": [
        "\n",
        "Time: 46000.00\n",
        "Time: 46100.00\n",
        "Time: 46200.00"
       ]
      },
      {
       "output_type": "stream",
       "stream": "stdout",
       "text": [
        "\n",
        "Time: 46300.00\n",
        "Time: 46400.00\n",
        "Time: 46500.00"
       ]
      },
      {
       "output_type": "stream",
       "stream": "stdout",
       "text": [
        "\n",
        "Time: 46600.00\n",
        "Time: 46700.00\n",
        "Time: 46800.00"
       ]
      },
      {
       "output_type": "stream",
       "stream": "stdout",
       "text": [
        "\n",
        "Time: 46900.00\n",
        "Time: 47000.00\n",
        "Time: 47100.00"
       ]
      },
      {
       "output_type": "stream",
       "stream": "stdout",
       "text": [
        "\n",
        "Time: 47200.00\n",
        "Time: 47300.00\n",
        "Time: 47400.00"
       ]
      },
      {
       "output_type": "stream",
       "stream": "stdout",
       "text": [
        "\n",
        "Time: 47500.00\n",
        "Time: 47600.00\n",
        "Time: 47700.00"
       ]
      },
      {
       "output_type": "stream",
       "stream": "stdout",
       "text": [
        "\n",
        "Time: 47800.00\n",
        "Time: 47900.00\n",
        "Time: 48000.00"
       ]
      },
      {
       "output_type": "stream",
       "stream": "stdout",
       "text": [
        "\n",
        "Time: 48100.00\n",
        "Time: 48200.00\n",
        "Time: 48300.00"
       ]
      },
      {
       "output_type": "stream",
       "stream": "stdout",
       "text": [
        "\n",
        "Time: 48400.00\n",
        "Time: 48500.00\n",
        "Time: 48600.00"
       ]
      },
      {
       "output_type": "stream",
       "stream": "stdout",
       "text": [
        "\n",
        "Time: 48700.00\n",
        "Time: 48800.00\n",
        "Time: 48900.00"
       ]
      },
      {
       "output_type": "stream",
       "stream": "stdout",
       "text": [
        "\n",
        "Time: 49000.00\n",
        "Time: 49100.00\n",
        "Time: 49200.00"
       ]
      },
      {
       "output_type": "stream",
       "stream": "stdout",
       "text": [
        "\n",
        "Time: 49300.00\n",
        "Time: 49400.00\n",
        "Time: 49500.00"
       ]
      },
      {
       "output_type": "stream",
       "stream": "stdout",
       "text": [
        "\n",
        "Time: 49600.00\n",
        "Time: 49700.00\n",
        "Time: 49800.00"
       ]
      },
      {
       "output_type": "stream",
       "stream": "stdout",
       "text": [
        "\n",
        "Time: 49900.00\n",
        "Time: 50000.00\n"
       ]
      }
     ],
     "prompt_number": 9
    },
    {
     "cell_type": "code",
     "collapsed": false,
     "input": [
      "# dfn.info(solver, True)"
     ],
     "language": "python",
     "metadata": {},
     "outputs": []
    },
    {
     "cell_type": "code",
     "collapsed": false,
     "input": [
      "dfn.plot(H_n) \n",
      "dfn.interactive()"
     ],
     "language": "python",
     "metadata": {},
     "outputs": [],
     "prompt_number": 10
    },
    {
     "cell_type": "code",
     "collapsed": false,
     "input": [],
     "language": "python",
     "metadata": {},
     "outputs": []
    }
   ],
   "metadata": {}
  }
 ]
}