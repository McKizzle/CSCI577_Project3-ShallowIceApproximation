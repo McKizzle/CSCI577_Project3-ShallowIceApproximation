{
 "metadata": {
  "name": "",
  "signature": "sha256:8f274034c9d07fba3777393c205b5c9bc71182c2cb3ff6cd6e240ab189d07577"
 },
 "nbformat": 3,
 "nbformat_minor": 0,
 "worksheets": [
  {
   "cells": [
    {
     "cell_type": "markdown",
     "metadata": {},
     "source": [
      "# Shallow Ice Doodle Zone\n",
      "Area to experiment on the ice flow."
     ]
    },
    {
     "cell_type": "code",
     "collapsed": false,
     "input": [
      "import dolfin as dfn\n",
      "import numpy as np\n",
      "\n",
      "# Constants Zone\n",
      "n = 3.0             # Flow-law exponent\n",
      "A = 10.0e-16        # 1 / (Pa^3 a)\n",
      "g = 9.81            # m / s**2\n",
      "spy = 31556926.0    # s / a\n",
      "\n",
      "rho_i = 911.0       # kg / m**3\n",
      "n = 3.0             # - dimensionless\n",
      "a_dot = 0.3         # phi is a calculated value on page 4 of the paper.\n",
      "k = 2.1             # W / (m^1 K^1)\n",
      "c_p = 2009.0        # J/(kg * K)\n",
      "T_0 = 273.15        # K\n",
      "beta = 8.7e-4       # 1/(Km)\n",
      "G = 42.0            # mW / M^2\n",
      "\n",
      "\n",
      "T = 50000.0         # Maximum number of years to run the simulation\n",
      "dt = 100.0         # timestep in years. \n",
      "\n",
      "# T is end time\n",
      "# t is current time"
     ],
     "language": "python",
     "metadata": {},
     "outputs": [],
     "prompt_number": 1
    },
    {
     "cell_type": "markdown",
     "metadata": {},
     "source": [
      "## Diffusion Accumulation\n",
      "Implement the diffusion of the accumulation of the ice. "
     ]
    },
    {
     "cell_type": "code",
     "collapsed": false,
     "input": [
      "def dH_boundary(h, on_boundary):\n",
      "    return on_boundary\n",
      "\n",
      "\n",
      "mesh = dfn.RectangleMesh(0, 0, 1500000, 1500000, 31, 31)\n",
      "\n",
      "FS = dfn.FunctionSpace(mesh, 'CG', 1)\n",
      "\n",
      "H_n = dfn.Function(FS)\n",
      "H_o = dfn.Function(FS)\n",
      "dH = dfn.TrialFunction(FS)\n",
      "w = dfn.TestFunction(FS) \n",
      "t = 0.0\n",
      "\n"
     ],
     "language": "python",
     "metadata": {},
     "outputs": [
      {
       "output_type": "stream",
       "stream": "stderr",
       "text": [
        "DEBUG:UFL:No integrals left after transformation, returning empty form.\n"
       ]
      },
      {
       "output_type": "stream",
       "stream": "stderr",
       "text": [
        "DEBUG:FFC:Reusing form from cache.\n"
       ]
      }
     ],
     "prompt_number": 2
    },
    {
     "cell_type": "markdown",
     "metadata": {},
     "source": [
      "- : -\n",
      "\n",
      "<!--### Residual Function\n",
      "Lets define the residual function in FEniCS. \n",
      "\n",
      "\\begin{align}\n",
      "R &= \\frac{\\partial H}{\\partial t} - \\nabla D(H) \\nabla H  + \\dot{a} = 0\\\\\n",
      "\\end{align}\n",
      "\n",
      "- Note to self: the `dot` function representss the $\\sum$ in teh notes. There is also the `inner` function. \n",
      "- __I have not determine if we need to use the residual function in the SUPG stabilization yet__\n",
      "-->"
     ]
    },
    {
     "cell_type": "code",
     "collapsed": false,
     "input": [
      "def D(H):\n",
      "    return ((2.0 * A * (rho_i * g)**n) / (n + 2.0)) * H**(n + 2.0) \\\n",
      "        * dfn.dot(dfn.grad(H), dfn.grad(H))**((n - 1.0) / 2.0)"
     ],
     "language": "python",
     "metadata": {},
     "outputs": [],
     "prompt_number": 3
    },
    {
     "cell_type": "code",
     "collapsed": false,
     "input": [
      "F = (((H_n - H_o) / dt) * w) + (D(H_n) * dfn.dot(dfn.grad(H_n), dfn.grad(w))) - (a_dot * w)\n",
      "F = F * dfn.dx"
     ],
     "language": "python",
     "metadata": {},
     "outputs": [],
     "prompt_number": 4
    },
    {
     "cell_type": "code",
     "collapsed": false,
     "input": [
      "f = dfn.Constant(0)\n",
      "bc = dfn.DirichletBC(FS, f, dH_boundary)"
     ],
     "language": "python",
     "metadata": {},
     "outputs": [],
     "prompt_number": 8
    },
    {
     "cell_type": "code",
     "collapsed": false,
     "input": [
      "# Calculate the Jacobian Matrix\n",
      "J = dfn.derivative(F, H_n, dH)\n",
      "problem = dfn.NonlinearVariationalProblem(F, H_n, bc, J)\n",
      "solver  = dfn.NonlinearVariationalSolver(problem)\n",
      "\n",
      "slvr_prms = solver.parameters;\n",
      "solver.parameters['nonlinear_solver'] = 'newton'\n",
      "solver.parameters['snes_solver']['method']='virs'\n",
      "solver.parameters['snes_solver']['maximum_iterations']=50\n",
      "solver.parameters['snes_solver']['linear_solver']='mumps'\n",
      "solver.parameters['snes_solver']['preconditioner'] = 'ilu'\n",
      "#dfn.info(slvr_prms, verbose=True)\n",
      "#slvr_prms[\"nonlinear_solver\"] = \"newton\""
     ],
     "language": "python",
     "metadata": {},
     "outputs": [
      {
       "output_type": "stream",
       "stream": "stderr",
       "text": [
        "DEBUG:FFC:Reusing form from cache.\n"
       ]
      },
      {
       "output_type": "stream",
       "stream": "stderr",
       "text": [
        "DEBUG:UFL:In CoefficientAD.coefficient:\n"
       ]
      },
      {
       "output_type": "stream",
       "stream": "stderr",
       "text": [
        "DEBUG:UFL:o = f_1\n"
       ]
      },
      {
       "output_type": "stream",
       "stream": "stderr",
       "text": [
        "DEBUG:UFL:self._w = Tuple(*(f_1,))\n"
       ]
      },
      {
       "output_type": "stream",
       "stream": "stderr",
       "text": [
        "DEBUG:UFL:self._v = Tuple(*(v_{-1},))\n"
       ]
      },
      {
       "output_type": "stream",
       "stream": "stderr",
       "text": [
        "DEBUG:UFL:In CoefficientAD.coefficient:\n"
       ]
      },
      {
       "output_type": "stream",
       "stream": "stderr",
       "text": [
        "DEBUG:UFL:o = f_2\n"
       ]
      },
      {
       "output_type": "stream",
       "stream": "stderr",
       "text": [
        "DEBUG:UFL:self._w = Tuple(*(f_1,))\n"
       ]
      },
      {
       "output_type": "stream",
       "stream": "stderr",
       "text": [
        "DEBUG:UFL:self._v = Tuple(*(v_{-1},))\n"
       ]
      },
      {
       "output_type": "stream",
       "stream": "stderr",
       "text": [
        "DEBUG:UFL:In CoefficientAD.coefficient:\n"
       ]
      },
      {
       "output_type": "stream",
       "stream": "stderr",
       "text": [
        "DEBUG:UFL:o = f_1\n"
       ]
      },
      {
       "output_type": "stream",
       "stream": "stderr",
       "text": [
        "DEBUG:UFL:self._w = Tuple(*(f_1,))\n"
       ]
      },
      {
       "output_type": "stream",
       "stream": "stderr",
       "text": [
        "DEBUG:UFL:self._v = Tuple(*(v_{-1},))\n"
       ]
      },
      {
       "output_type": "stream",
       "stream": "stderr",
       "text": [
        "DEBUG:UFL:No integrals left after transformation, returning empty form.\n"
       ]
      },
      {
       "output_type": "stream",
       "stream": "stderr",
       "text": [
        "DEBUG:UFL:No integrals left after transformation, returning empty form.\n"
       ]
      },
      {
       "output_type": "stream",
       "stream": "stderr",
       "text": [
        "DEBUG:FFC:Reusing form from cache.\n"
       ]
      }
     ],
     "prompt_number": 9
    },
    {
     "cell_type": "code",
     "collapsed": false,
     "input": [
      "icesim_file = dfn.File(\"icesim_out.pvd\", \"compressed\")\n",
      "\n",
      "# Bounds need to be functions\n",
      "lb = dfn.interpolate(dfn.Expression('0'),FS)   # lower\n",
      "ub = dfn.interpolate(dfn.Expression('0'),FS) # upper\n",
      "\n",
      "t = dt\n",
      "while t <= T:\n",
      "    print \"Time: %0.2f\" % t\n",
      "    t += dt\n",
      "    solver.solve(lb, ub)\n",
      "    H_o.vector()[:] = H_n.vector()\n",
      "    #dfn.plot(H_n)\n",
      "    #icesim_file << (H_o.split()[0], t)"
     ],
     "language": "python",
     "metadata": {},
     "outputs": [
      {
       "output_type": "stream",
       "stream": "stdout",
       "text": [
        "Time: 100.00\n"
       ]
      },
      {
       "ename": "RuntimeError",
       "evalue": "\n\n*** -------------------------------------------------------------------------\n*** DOLFIN encountered an error. If you are not able to resolve this issue\n*** using the information listed below, you can ask for help at\n***\n***     fenics@fenicsproject.org\n***\n*** Remember to include the error message listed below and, if possible,\n*** include a *minimal* running example to reproduce the error.\n***\n*** -------------------------------------------------------------------------\n*** Error:   Unable to solve nonlinear variational problem.\n*** Reason:  Set the \"nonlinear_solver\" parameter to \"snes\" or remove bounds.\n*** Where:   This error was encountered inside NonlinearVariationalSolver.cpp.\n*** Process: 0\n*** \n*** DOLFIN version: 1.3.0\n*** Git changeset:  unknown\n*** -------------------------------------------------------------------------\n",
       "output_type": "pyerr",
       "traceback": [
        "\u001b[1;31m---------------------------------------------------------------------------\u001b[0m\n\u001b[1;31mRuntimeError\u001b[0m                              Traceback (most recent call last)",
        "\u001b[1;32m<ipython-input-10-9c0932e28d40>\u001b[0m in \u001b[0;36m<module>\u001b[1;34m()\u001b[0m\n\u001b[0;32m      9\u001b[0m     \u001b[1;32mprint\u001b[0m \u001b[1;34m\"Time: %0.2f\"\u001b[0m \u001b[1;33m%\u001b[0m \u001b[0mt\u001b[0m\u001b[1;33m\u001b[0m\u001b[0m\n\u001b[0;32m     10\u001b[0m     \u001b[0mt\u001b[0m \u001b[1;33m+=\u001b[0m \u001b[0mdt\u001b[0m\u001b[1;33m\u001b[0m\u001b[0m\n\u001b[1;32m---> 11\u001b[1;33m     \u001b[0msolver\u001b[0m\u001b[1;33m.\u001b[0m\u001b[0msolve\u001b[0m\u001b[1;33m(\u001b[0m\u001b[0mlb\u001b[0m\u001b[1;33m,\u001b[0m \u001b[0mub\u001b[0m\u001b[1;33m)\u001b[0m\u001b[1;33m\u001b[0m\u001b[0m\n\u001b[0m\u001b[0;32m     12\u001b[0m     \u001b[0mH_o\u001b[0m\u001b[1;33m.\u001b[0m\u001b[0mvector\u001b[0m\u001b[1;33m(\u001b[0m\u001b[1;33m)\u001b[0m\u001b[1;33m[\u001b[0m\u001b[1;33m:\u001b[0m\u001b[1;33m]\u001b[0m \u001b[1;33m=\u001b[0m \u001b[0mH_n\u001b[0m\u001b[1;33m.\u001b[0m\u001b[0mvector\u001b[0m\u001b[1;33m(\u001b[0m\u001b[1;33m)\u001b[0m\u001b[1;33m\u001b[0m\u001b[0m\n\u001b[0;32m     13\u001b[0m     \u001b[1;31m#dfn.plot(H_n)\u001b[0m\u001b[1;33m\u001b[0m\u001b[1;33m\u001b[0m\u001b[0m\n",
        "\u001b[1;31mRuntimeError\u001b[0m: \n\n*** -------------------------------------------------------------------------\n*** DOLFIN encountered an error. If you are not able to resolve this issue\n*** using the information listed below, you can ask for help at\n***\n***     fenics@fenicsproject.org\n***\n*** Remember to include the error message listed below and, if possible,\n*** include a *minimal* running example to reproduce the error.\n***\n*** -------------------------------------------------------------------------\n*** Error:   Unable to solve nonlinear variational problem.\n*** Reason:  Set the \"nonlinear_solver\" parameter to \"snes\" or remove bounds.\n*** Where:   This error was encountered inside NonlinearVariationalSolver.cpp.\n*** Process: 0\n*** \n*** DOLFIN version: 1.3.0\n*** Git changeset:  unknown\n*** -------------------------------------------------------------------------\n"
       ]
      }
     ],
     "prompt_number": 10
    },
    {
     "cell_type": "code",
     "collapsed": false,
     "input": [
      "dfn.info(solver, True)"
     ],
     "language": "python",
     "metadata": {},
     "outputs": []
    },
    {
     "cell_type": "code",
     "collapsed": false,
     "input": [
      "dfn.plot(H_n) \n",
      "dfn.interactive()"
     ],
     "language": "python",
     "metadata": {},
     "outputs": []
    },
    {
     "cell_type": "code",
     "collapsed": false,
     "input": [],
     "language": "python",
     "metadata": {},
     "outputs": []
    }
   ],
   "metadata": {}
  }
 ]
}